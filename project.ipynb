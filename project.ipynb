{
 "cells": [
  {
   "cell_type": "markdown",
   "metadata": {},
   "source": [
    "# Project: **Name of method** in **name of software**\n",
    "\n",
    "This notebook is a blank slate for you to write in.  Feel free to include figures (don't forget to add/commit them to your repository) and examples.  You can change the kernel (from `Python 3`; see upper right) if the open source project you're writing about does not use Python.  You can write from the prompts below or delete all the cells and start fresh.  Note that Git will always contain your history.\n",
    "\n",
    "You can run shell commands:"
   ]
  },
  {
   "cell_type": "code",
   "execution_count": 1,
   "metadata": {},
   "outputs": [
    {
     "name": "stdout",
     "output_type": "stream",
     "text": [
      "project.ipynb  README.md\n"
     ]
    }
   ],
   "source": [
    "! ls"
   ]
  },
  {
   "cell_type": "markdown",
   "metadata": {},
   "source": [
    "and include code snippets\n",
    "\n",
    "```c\n",
    "double square(double x) {\n",
    "    return x*x;\n",
    "}\n",
    "```\n",
    "or code cells"
   ]
  },
  {
   "cell_type": "code",
   "execution_count": 2,
   "metadata": {},
   "outputs": [
    {
     "name": "stdout",
     "output_type": "stream",
     "text": [
      "square(3) = 9\n"
     ]
    }
   ],
   "source": [
    "def square(x):\n",
    "    return x*x\n",
    "\n",
    "print(f'square(3) = {square(3)}')"
   ]
  },
  {
   "cell_type": "markdown",
   "metadata": {},
   "source": [
    "The following prompts may be useful, but you don't have to use them.\n",
    "## About the method\n",
    "\n",
    "How does the method relate to concepts we've covered in class. You're writing for your fellow classmates so try to make it understandable to them. Why is the method used in this context? Can you explain why it's preferred over some alternative in this context?\n",
    "\n",
    "### Questions you have about the method\n",
    "\n",
    "* You can list questions you haven't been able to answer. Perhaps your peers will be able to help answer them. Jed will address some questions in class.\n",
    "\n",
    "## About the software\n",
    "\n",
    "Link to the repository. What does the software package do (at a high level)? Who develops it? Who uses it? What language is it written in and what language(s) can it be called from? If there are figures of its architecture, use, or products (e.g., from the docs), you're welcome to include them here. This is an example diagram included in the notebook:\n",
    "\n",
    "![](https://libceed.readthedocs.io/en/latest/_images/libCEED.png)\n",
    "\n",
    "\n",
    "### Github Link\n",
    "\n",
    "https://github.com/alexandrebarachant/pyRiemann.git\n",
    "\n",
    "### Pyriemann\n",
    "\n",
    "The purpose of this software package is to do matrix manipulation through riemannian geometry. Riemannian geometry is a branch of geometry that has inner product on tangent space. In a short summary, Riemannian geometry is used in calculus and Linear ALgebra. It helps to study smooth manifolds. The code is written in python and the purpose is to use matrices to help graph these out. The author for this is Alexandre Barachant, a research scientist with specialty in Machine Learning and Neuroscience. His goal with this project(which is still in development stages) is to use this kind of software to help map biosginals like EEG, MEG, and or EMG. These kind og signals are found in the brain and the kind of shape to map out for the brian is part of riemannian geometry. This programs purpose is to help in the neuroscience field and help detect problems in the brain related to the biosignals. \n",
    "\n",
    "https://pyriemann.readthedocs.io/en/latest/auto_examples/ERP/plot_classify_EEG_tangentspace.html\n",
    "\n",
    "\n",
    "\n",
    "## Method as it appears in the software\n",
    "\n",
    "What role does the method play in the software? How does one call it (perhaps via a higher level interface that uses the method)? Are there particular performance concerns that went into its use? How expensive is it? Can you express performance in terms that are relevant to a user? How about accuracy, conditioning, or stability in the chosen formulation?\n",
    "    \n",
    "        I selected this program because the use of matrices are similar in the mapping. We did basic matrices mapping in python, but this took this more in depth and advance software that is relevant to the stuff we are doing.\n",
    "        The program here is Tangent space projecting. With each projection, each matrix is represented by N(N+1)/2 where is N stands for the dimension. Tangent space projection is helpful because convert covariance matrices to euclidean vectors.\n",
    "\n",
    "\n",
    "## Other Info\n",
    "\n",
    "I spent a little time learning about it, but it was a lot of information to go in depth and I don't really understand all of it very fully. I tried my best to get the jist of it to help the reader. I felt anything outside of this would put the reader more confused and not help learn about this topic. I tried to answer all of the questions to the best of my ability but it was very hard to get all the information possible since it was a very big program. \n",
    "\n"
   ]
  },
  {
   "cell_type": "code",
   "execution_count": null,
   "metadata": {},
   "outputs": [],
   "source": []
  }
 ],
 "metadata": {
  "kernelspec": {
   "display_name": "Python 3",
   "language": "python",
   "name": "python3"
  },
  "language_info": {
   "codemirror_mode": {
    "name": "ipython",
    "version": 3
   },
   "file_extension": ".py",
   "mimetype": "text/x-python",
   "name": "python",
   "nbconvert_exporter": "python",
   "pygments_lexer": "ipython3",
   "version": "3.7.3"
  }
 },
 "nbformat": 4,
 "nbformat_minor": 4
}
